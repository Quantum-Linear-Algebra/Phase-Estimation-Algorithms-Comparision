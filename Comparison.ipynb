{
 "cells": [
  {
   "cell_type": "code",
   "execution_count": null,
   "id": "a0223e1f",
   "metadata": {},
   "outputs": [],
   "source": [
    "import sys \n",
    "paths = ['./0-Data', './1-Algorithms', './2-Graphing']\n",
    "for path in paths:\n",
    "    if path not in sys.path:\n",
    "        sys.path.append(path)\n",
    "\n",
    "from numpy import pi\n",
    "\n",
    "import Parameters as param\n",
    "from Parameters import make_filename\n",
    "import Data_Generator as data\n",
    "import Algorithm_Executor as algo\n",
    "import Graph_Generator as graph_gen"
   ]
  },
  {
   "cell_type": "code",
   "execution_count": null,
   "id": "3b4fde18",
   "metadata": {},
   "outputs": [],
   "source": [
    "parameters = {}\n",
    "# NOTE: Specifying unused parameters will not affect computation with the used parameters\n",
    "\n",
    "# Generic Parameters\n",
    "parameters['comp_type']     = 'H' # OPTIONS: Classical, Simulation, Hardware, Job\n",
    "parameters['num_timesteps'] = 2000\n",
    "parameters['sites']         = 3\n",
    "parameters['Dt']            = 0.05\n",
    "parameters['shots']         = 10**2\n",
    "parameters['scaling']       = 3/4*pi\n",
    "parameters['shifting']      = 0\n",
    "parameters['overlap']       = 0.75   # the initial state overlap\n",
    "\n",
    "# SPECIFIC SYSTEM TYPE\n",
    "parameters['system']     = 'HUB' # OPTIONS: TFIM, SPIN, HUBBARD, H_2\n",
    "\n",
    "# Transverse Field Ising Model Parameters\n",
    "parameters['g'] = 4 # magnetic field strength (TFIM)\n",
    "parameters['method_for_model'] = 'Q' # OPTIONS: F3C, Qiskit\n",
    "parameters['trotter'] = 1000 # only with method_for_model = F3C\n",
    "\n",
    "# Spin Model Parameters\n",
    "parameters['J'] = 4 # coupling strength (SPIN)\n",
    "\n",
    "# Hubbard Parameters\n",
    "parameters['t'] = 1 # left-right hopping (HUBB)\n",
    "parameters['U'] = 1 # up-down hopping (HUBB)\n",
    "parameters['x'] = 3 # x size of latice (HUBB)\n",
    "parameters['y'] = 1 # y size of latice (HUBB)\n",
    "\n",
    "# H_2 Parameters\n",
    "parameters['distance'] = .5\n",
    "\n",
    "# Algorithms to use\n",
    "parameters['algorithms'] = ['ODMD'] # OPTIONS: ODMD, VQPE, QCELS, ML-QCELS\n",
    "\n",
    "backend = param.check(parameters)"
   ]
  },
  {
   "cell_type": "code",
   "execution_count": null,
   "id": "b306f1e8",
   "metadata": {},
   "outputs": [],
   "source": [
    "data.run(parameters, backend)"
   ]
  },
  {
   "cell_type": "code",
   "execution_count": null,
   "id": "1cc375e1",
   "metadata": {},
   "outputs": [],
   "source": [
    "# data.save_job_ids_params(parameters)"
   ]
  },
  {
   "cell_type": "code",
   "execution_count": null,
   "id": "d7790e97",
   "metadata": {},
   "outputs": [],
   "source": [
    "algo.run(parameters)"
   ]
  },
  {
   "cell_type": "code",
   "execution_count": null,
   "id": "7c46e07d",
   "metadata": {},
   "outputs": [],
   "source": [
    "graph_gen.run(parameters)"
   ]
  },
  {
   "cell_type": "code",
   "execution_count": null,
   "id": "dade91eb",
   "metadata": {},
   "outputs": [],
   "source": [
    "# from IPython.display import Image\n",
    "# Image(filename =\"./2-Graphing/Graphs/\"+make_filename(parameters)+\"_Expectation_Value.png\")\n",
    "# Image(filename =\"./2-Graphing/Graphs/\"+make_filename(parameters)+\"_Fourier_Transform_Expectation_Value.png\")\n",
    "# Image(filename =\"./2-Graphing/Graphs/\"+make_filename(parameters)+\"_Convergence.png\")"
   ]
  }
 ],
 "metadata": {
  "kernelspec": {
   "display_name": "Qiskit-env",
   "language": "python",
   "name": "python3"
  },
  "language_info": {
   "codemirror_mode": {
    "name": "ipython",
    "version": 3
   },
   "file_extension": ".py",
   "mimetype": "text/x-python",
   "name": "python",
   "nbconvert_exporter": "python",
   "pygments_lexer": "ipython3",
   "version": "3.11.11"
  }
 },
 "nbformat": 4,
 "nbformat_minor": 5
}
